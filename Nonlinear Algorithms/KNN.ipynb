{
  "nbformat": 4,
  "nbformat_minor": 0,
  "metadata": {
    "colab": {
      "name": "KNN.ipynb",
      "provenance": [],
      "collapsed_sections": []
    },
    "kernelspec": {
      "name": "python3",
      "display_name": "Python 3"
    }
  },
  "cells": [
    {
      "cell_type": "code",
      "metadata": {
        "id": "6M1Km0K5zZfD",
        "colab": {
          "base_uri": "https://localhost:8080/"
        },
        "outputId": "6ad7c0bc-dd32-4b17-fc82-02dbcd6afb73"
      },
      "source": [
        "from google.colab import drive ; drive.mount(\"/content/drive\")3"
      ],
      "execution_count": 2,
      "outputs": [
        {
          "output_type": "stream",
          "text": [
            "Mounted at /content/drive\n"
          ],
          "name": "stdout"
        }
      ]
    },
    {
      "cell_type": "code",
      "metadata": {
        "colab": {
          "base_uri": "https://localhost:8080/"
        },
        "id": "aEnkhA-22Psh",
        "outputId": "0c5545cf-a703-4edb-b518-57fb1c22524f"
      },
      "source": [
        "dataset = [[2.7810836,2.550537003,0],\n",
        "[1.465489372,2.362125076,0],\n",
        "[3.396561688,4.400293529,0],\n",
        "[1.38807019,1.850220317,0],\n",
        "[3.06407232,3.005305973,0],\n",
        "[7.627531214,2.759262235,1],\n",
        "[5.332441248,2.088626775,1],\n",
        "[6.922596716,1.77106367,1],\n",
        "[8.675418651,-0.242068655,1],]"
      ],
      "execution_count": 12,
      "outputs": [
        {
          "output_type": "execute_result",
          "data": {
            "text/plain": [
              "[[2.7810836, 2.550537003, 0],\n",
              " [1.465489372, 2.362125076, 0],\n",
              " [3.396561688, 4.400293529, 0],\n",
              " [1.38807019, 1.850220317, 0],\n",
              " [3.06407232, 3.005305973, 0],\n",
              " [7.627531214, 2.759262235, 1],\n",
              " [5.332441248, 2.088626775, 1],\n",
              " [6.922596716, 1.77106367, 1],\n",
              " [8.675418651, -0.242068655, 1]]"
            ]
          },
          "metadata": {
            "tags": []
          },
          "execution_count": 12
        }
      ]
    },
    {
      "cell_type": "code",
      "metadata": {
        "colab": {
          "base_uri": "https://localhost:8080/"
        },
        "id": "hBcie4Co7Z6J",
        "outputId": "e499e291-8f61-4b34-b2a1-5f6c5e7ef9d9"
      },
      "source": [
        "dataset[0]"
      ],
      "execution_count": 26,
      "outputs": [
        {
          "output_type": "execute_result",
          "data": {
            "text/plain": [
              "[2.7810836, 2.550537003, 0]"
            ]
          },
          "metadata": {
            "tags": []
          },
          "execution_count": 26
        }
      ]
    },
    {
      "cell_type": "code",
      "metadata": {
        "id": "6OONOjCe0qnP"
      },
      "source": [
        "def euclidean_distance(data1 , data2):\n",
        "  distance = 0.0\n",
        "  for col in range(0,len(data1) -1 ):\n",
        "\n",
        "    distance = distance + (data1[col] -  data2[col])**2\n",
        "  \n",
        "  return np.sqrt(distance)\n",
        "\n",
        "row0 = dataset[0]\n",
        "for row in dataset:\n",
        "  distance = euclidean_distance(row0, row)"
      ],
      "execution_count": 27,
      "outputs": []
    },
    {
      "cell_type": "code",
      "metadata": {
        "id": "j-juq7ag0F6H",
        "colab": {
          "base_uri": "https://localhost:8080/"
        },
        "outputId": "fde65012-5199-4ef1-8b71-2ca0c0c0aa42"
      },
      "source": [
        "def get_neighbors(train , test_row, tot_neighbors):\n",
        "  distances = []\n",
        "  for row in train:\n",
        "    distance = euclidean_distance(row,test_row)\n",
        "    distances.append((row,distance))\n",
        "  \n",
        "  distances.sort(key=lambda row : row[1])\n",
        "  neighbors = []\n",
        "  for i in range(0, tot_neighbors):\n",
        "    neighbors.append(distances[i][0])\n",
        "\n",
        "  return neighbors\n",
        "\n",
        "\n",
        "get_neighbors(dataset,dataset[0],5)\n"
      ],
      "execution_count": 36,
      "outputs": [
        {
          "output_type": "execute_result",
          "data": {
            "text/plain": [
              "[[2.7810836, 2.550537003, 0],\n",
              " [3.06407232, 3.005305973, 0],\n",
              " [1.465489372, 2.362125076, 0],\n",
              " [1.38807019, 1.850220317, 0],\n",
              " [3.396561688, 4.400293529, 0]]"
            ]
          },
          "metadata": {
            "tags": []
          },
          "execution_count": 36
        }
      ]
    },
    {
      "cell_type": "code",
      "metadata": {
        "colab": {
          "base_uri": "https://localhost:8080/"
        },
        "id": "jaqqohDf8hjD",
        "outputId": "c182da82-8175-45f6-ca75-ec758bc4cb40"
      },
      "source": [
        "def predictGan(train,test_row,num_class):\n",
        "  ClosesNeighbors = get_neighbors(train,test_row,num_class)\n",
        "  output = [row[-1] for row in ClosesNeighbors]\n",
        "  prediction = max(output)\n",
        "  return prediction\n",
        "\n",
        "prediction = predictGan(dataset, dataset[0], 3)\n",
        "print('Expected %d, Got %d.' % (dataset[0][-1], prediction))"
      ],
      "execution_count": 37,
      "outputs": [
        {
          "output_type": "stream",
          "text": [
            "Expected 0, Got 0.\n"
          ],
          "name": "stdout"
        }
      ]
    },
    {
      "cell_type": "code",
      "metadata": {
        "id": "3kSMLvaw_hSn"
      },
      "source": [
        "## Implement KNN "
      ],
      "execution_count": null,
      "outputs": []
    },
    {
      "cell_type": "code",
      "metadata": {
        "colab": {
          "base_uri": "https://localhost:8080/"
        },
        "id": "IBEwxK3O_hiA",
        "outputId": "8af42ed0-5dc2-4449-9cb1-14d0106ed8f7"
      },
      "source": [
        "from random import seed\n",
        "from csv import reader\n",
        "from math import sqrt\n",
        "\n",
        "\n",
        "def load_csv(location):\n",
        "  dataset = []\n",
        "  with open(location,\"r\") as file:\n",
        "    csv_reader = reader(file)\n",
        "    for row in csv_reader:\n",
        "      if row:\n",
        "        dataset.append(row)\n",
        "  return dataset\n",
        "\n",
        "\n",
        "def minmax(dataset):\n",
        "  minmax =[]\n",
        "  for i in range(0,len(dataset[0])):\n",
        "    mincol = [row[i] for row in dataset]\n",
        "    print(mincol)\n",
        "minmax(dataset)"
      ],
      "execution_count": 41,
      "outputs": [
        {
          "output_type": "stream",
          "text": [
            "[2.7810836, 1.465489372, 3.396561688, 1.38807019, 3.06407232, 7.627531214, 5.332441248, 6.922596716, 8.675418651]\n",
            "[2.550537003, 2.362125076, 4.400293529, 1.850220317, 3.005305973, 2.759262235, 2.088626775, 1.77106367, -0.242068655]\n",
            "[0, 0, 0, 0, 0, 1, 1, 1, 1]\n"
          ],
          "name": "stdout"
        }
      ]
    },
    {
      "cell_type": "code",
      "metadata": {
        "colab": {
          "base_uri": "https://localhost:8080/",
          "height": 163
        },
        "id": "8N293pOzBPjh",
        "outputId": "a63d1e07-f89f-4e4f-ab30-5eb7b78f6cec"
      },
      "source": [
        ""
      ],
      "execution_count": 39,
      "outputs": [
        {
          "output_type": "error",
          "ename": "ValueError",
          "evalue": "ignored",
          "traceback": [
            "\u001b[0;31m---------------------------------------------------------------------------\u001b[0m",
            "\u001b[0;31mValueError\u001b[0m                                Traceback (most recent call last)",
            "\u001b[0;32m<ipython-input-39-06ae773c1895>\u001b[0m in \u001b[0;36m<module>\u001b[0;34m()\u001b[0m\n\u001b[0;32m----> 1\u001b[0;31m \u001b[0mfloat\u001b[0m\u001b[0;34m(\u001b[0m\u001b[0;34m\"sampis\"\u001b[0m\u001b[0;34m.\u001b[0m\u001b[0mstrip\u001b[0m\u001b[0;34m(\u001b[0m\u001b[0;34m)\u001b[0m\u001b[0;34m)\u001b[0m\u001b[0;34m\u001b[0m\u001b[0;34m\u001b[0m\u001b[0m\n\u001b[0m",
            "\u001b[0;31mValueError\u001b[0m: could not convert string to float: 'sampis'"
          ]
        }
      ]
    },
    {
      "cell_type": "markdown",
      "metadata": {
        "id": "5QkYE0zO-0UG"
      },
      "source": [
        ""
      ]
    }
  ]
}