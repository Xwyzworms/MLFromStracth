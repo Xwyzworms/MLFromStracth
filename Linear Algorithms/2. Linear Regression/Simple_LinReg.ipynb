{
  "nbformat": 4,
  "nbformat_minor": 0,
  "metadata": {
    "colab": {
      "name": "Simple LinReg.ipynb",
      "provenance": [],
      "collapsed_sections": []
    },
    "kernelspec": {
      "name": "python3",
      "display_name": "Python 3"
    }
  },
  "cells": [
    {
      "cell_type": "code",
      "metadata": {
        "id": "WuWrEPUYTIAB",
        "outputId": "f1aee5c0-1858-4489-af2e-2bd369dbac82",
        "colab": {
          "base_uri": "https://localhost:8080/",
          "height": 321
        }
      },
      "source": [
        "\n",
        "import numpy as np\n",
        "import pandas as pd\n",
        "import matplotlib.pyplot as plt\n",
        "# Calculate Mean From Dataset()\n",
        "def mean(val):\n",
        "  return np.sum(val,axis = 0) / float((len(val)))\n",
        "\n",
        "def variance(val,mean):\n",
        "  return np.sum([ (x - mean)**2 for x in val ])\n",
        "\n",
        "def covariance(val1,val2): # describe if x and y variable relationship\n",
        "  meanVal1 = mean(val1)\n",
        "  meanVal2 = mean(val2)\n",
        "\n",
        "  assert(len(val1) == len(val2),\"GA SAMA SIZENYA BLOK\")\n",
        "  Covar = 0.0\n",
        "  for i in range(0,len(val1)):\n",
        "    Covar = Covar + ((val1[i] - meanVal1) * (val2[i] - meanVal2))\n",
        "  \n",
        "  return Covar\n",
        "\n",
        "def Coefficients(dataset):\n",
        "  x = [row[0] for row in dataset]\n",
        "  y = [row[1] for row in dataset]\n",
        "  mean_x , mean_y = mean(x) , mean(y)\n",
        "  B1 = covariance(x,y) / variance(x,mean_x)\n",
        "  B0 = mean_y - (B1 * mean(x))\n",
        "  return [B0,B1]\n",
        "\n",
        "def predictions(dataset,y_test):\n",
        "  predict =[]\n",
        "  b0,b1 = Coefficients(dataset)\n",
        "  for x_test in y_tests:\n",
        "    y_hat = b0 + b1 * x_test\n",
        "    predict.append(y_hat)\n",
        "  \n",
        "  return predict\n",
        "\n",
        "\n",
        "dataset = [[1, 1], [2, 3], [4, 3], [3, 2], [5, 5]]\n",
        "x = [row[0] for row in dataset]\n",
        "y = [row[1] for row in dataset]\n",
        "\n",
        "print(f\"Coefficients: b0 : {B0} , b1 : {B1})\")\n",
        "x_tests = [2,3,4,5,6]\n",
        "x_test_true = [4,2,1,2,2]\n",
        "ya = predictions(dataset,x_tests)\n",
        "plt.scatter(x,y)\n",
        "plt.scatter(x_tests,x_test_true)\n",
        "plt.scatter(x_tests,ya)\n",
        "plt.legend([\"dataset\",\"x_testTrue\",\"Predicted\"])\n",
        "plt.show()"
      ],
      "execution_count": 113,
      "outputs": [
        {
          "output_type": "stream",
          "text": [
            "Coefficients: b0 : 0.39999999999999947 , b1 : 0.8)\n"
          ],
          "name": "stdout"
        },
        {
          "output_type": "stream",
          "text": [
            "<ipython-input-113-9835b1ea2f9d>:16: SyntaxWarning: assertion is always true, perhaps remove parentheses?\n",
            "  assert(len(val1) == len(val2),\"GA SAMA SIZENYA BLOK\")\n"
          ],
          "name": "stderr"
        },
        {
          "output_type": "display_data",
          "data": {
            "image/png": "[encoded data removed]",
            "text/plain": [
              "<Figure size 432x288 with 1 Axes>"
            ]
          },
          "metadata": {
            "tags": [],
            "needs_background": "light"
          }
        }
      ]
    }
  ]
}