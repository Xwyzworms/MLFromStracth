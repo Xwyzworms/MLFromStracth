{
  "nbformat": 4,
  "nbformat_minor": 0,
  "metadata": {
    "colab": {
      "name": "Simple LinReg.ipynb",
      "provenance": [],
      "collapsed_sections": []
    },
    "kernelspec": {
      "name": "python3",
      "display_name": "Python 3"
    }
  },
  "cells": [
    {
      "cell_type": "code",
      "metadata": {
        "id": "WuWrEPUYTIAB",
        "outputId": "185a1035-e96a-449b-90fd-c15fc2bbf29e",
        "colab": {
          "base_uri": "https://localhost:8080/",
          "height": 341
        }
      },
      "source": [
        "\n",
        "import numpy as np\n",
        "import pandas as pd\n",
        "import matplotlib.pyplot as plt\n",
        "# Calculate Mean From Dataset()\n",
        "def mean(val):\n",
        "  return np.sum(val,axis = 0) / float((len(val)))\n",
        "\n",
        "def variance(val,mean):\n",
        "  return np.sum([ (x - mean)**2 for x in val ])\n",
        "\n",
        "def covariance(val1,val2): # describe if x and y variable relationship\n",
        "  meanVal1 = mean(val1)\n",
        "  meanVal2 = mean(val2)\n",
        "\n",
        "  assert(len(val1) == len(val2),\"GA SAMA SIZENYA BLOK\")\n",
        "  Covar = 0.0\n",
        "  for i in range(0,len(val1)):\n",
        "    Covar = Covar + ((val1[i] - meanVal1) * (val2[i] - meanVal2))\n",
        "  \n",
        "  return Covar\n",
        "\n",
        "def Coefficients(dataset):\n",
        "  x = [row[0] for row in dataset]\n",
        "  y = [row[1] for row in dataset]\n",
        "  mean_x , mean_y = mean(x) , mean(y)\n",
        "  B1 = covariance(x,y) / variance(x,mean_x)\n",
        "  B0 = mean_y - (B1 * mean(x))\n",
        "  return [B0,B1]\n",
        "\n",
        "def predictions(dataset,y_test):\n",
        "  predict =[]\n",
        "  b0,b1 = Coefficients(dataset)\n",
        "  for y_test in y_tests:\n",
        "    y_hat = b0 + b1 * y_test\n",
        "    predict.append(y_hat)\n",
        "  \n",
        "  return predict\n",
        "\n",
        "\n",
        "dataset = [[1, 1], [2, 3], [4, 3], [3, 2], [5, 5]]\n",
        "x = [row[0] for row in dataset]\n",
        "y = [row[1] for row in dataset]\n",
        "\n",
        "print(f\"Coefficients: b0 : {B0} , b1 : {B1})\")\n",
        "y_tests = [2,3,4,5,6]\n",
        "ya = predictions(dataset,y_tests)\n",
        "ya = [ya for ya in predictions(dataset,y_tests)]\n",
        "plt.scatter(x,y)\n",
        "plt.scatter(y_tests,ya)\n",
        "plt.show()"
      ],
      "execution_count": 104,
      "outputs": [
        {
          "output_type": "stream",
          "text": [
            "Coefficients: b0 : 0.39999999999999947 , b1 : 0.8)\n"
          ],
          "name": "stdout"
        },
        {
          "output_type": "stream",
          "text": [
            "<ipython-input-104-ed2ec5183682>:16: SyntaxWarning: assertion is always true, perhaps remove parentheses?\n",
            "  assert(len(val1) == len(val2),\"GA SAMA SIZENYA BLOK\")\n"
          ],
          "name": "stderr"
        },
        {
          "output_type": "display_data",
          "data": {
            "image/png": "[encoded data removed]",
            "text/plain": [
              "<Figure size 432x288 with 1 Axes>"
            ]
          },
          "metadata": {
            "tags": [],
            "needs_background": "light"
          }
        }
      ]
    },
    {
      "cell_type": "code",
      "metadata": {
        "id": "9vCoQ4GwUV-u",
        "outputId": "7e8242b4-e2d4-4f89-aa66-c1eaa46f3245",
        "colab": {
          "base_uri": "https://localhost:8080/",
          "height": 36
        }
      },
      "source": [
        "\n",
        "from google.colab import drive ; drive.mount(\"/content/drive\")"
      ],
      "execution_count": 2,
      "outputs": [
        {
          "output_type": "stream",
          "text": [
            "Mounted at /content/drive\n"
          ],
          "name": "stdout"
        }
      ]
    },
    {
      "cell_type": "code",
      "metadata": {
        "id": "YGm7IE7QYE-o",
        "outputId": "88308b72-9116-431e-f504-a0169113c646",
        "colab": {
          "base_uri": "https://localhost:8080/",
          "height": 36
        }
      },
      "source": [
        "dataset = [[1, 1], [2, 2], [3, 3], [4, 4], [5, 5]]\n",
        "x = [row[0] for row in dataset]\n",
        "y = [row[1] for row in dataset]\n",
        "x , y"
      ],
      "execution_count": 77,
      "outputs": [
        {
          "output_type": "execute_result",
          "data": {
            "text/plain": [
              "([1, 2, 3, 4, 5], [1, 2, 3, 4, 5])"
            ]
          },
          "metadata": {
            "tags": []
          },
          "execution_count": 77
        }
      ]
    },
    {
      "cell_type": "code",
      "metadata": {
        "id": "vO7l4rqnUYXK",
        "outputId": "a570f2c1-145a-4eb9-c0ef-45ec45ec89f8",
        "colab": {
          "base_uri": "https://localhost:8080/",
          "height": 129
        }
      },
      "source": [
        "np.random.seed(5)\n",
        "#x = np.random.random_sample((5,10))\n",
        "#y = np.random.random_sample((5,1))\n",
        "print( \"The Mean : \" , mean(x), \"\\n Y : \",mean(y) ) \n",
        "print(\"Using NP : \",np.mean(x))\n",
        "print( \"The Variance : \",variance(x,mean(x)))\n",
        "print( \"Covariance : \",covariance(x,y))\n",
        "print(\"Using Covariance : \", np.sum(np.cov([x,y])))"
      ],
      "execution_count": 85,
      "outputs": [
        {
          "output_type": "stream",
          "text": [
            "The Mean :  3.0 \n",
            " Y :  3.0\n",
            "Using NP :  3.0\n",
            "The Variance :  10.0\n",
            "Covariance :  10.0\n",
            "Using Covariance :  10.0\n"
          ],
          "name": "stdout"
        }
      ]
    },
    {
      "cell_type": "code",
      "metadata": {
        "id": "XcePkyGudl9R",
        "outputId": "11383dc2-3130-423a-b410-7d1a0a6e9149",
        "colab": {
          "base_uri": "https://localhost:8080/",
          "height": 284
        }
      },
      "source": [
        ""
      ],
      "execution_count": 84,
      "outputs": [
        {
          "output_type": "execute_result",
          "data": {
            "text/plain": [
              "<matplotlib.collections.PathCollection at 0x7fb186abd128>"
            ]
          },
          "metadata": {
            "tags": []
          },
          "execution_count": 84
        },
        {
          "output_type": "display_data",
          "data": {
            "image/png": "[encoded data removed]",
            "text/plain": [
              "<Figure size 432x288 with 1 Axes>"
            ]
          },
          "metadata": {
            "tags": [],
            "needs_background": "light"
          }
        }
      ]
    },
    {
      "cell_type": "code",
      "metadata": {
        "id": "zmGut0fWeG_I",
        "outputId": "415c47e6-bd22-42fd-cc40-5bc8ea6025ba",
        "colab": {
          "base_uri": "https://localhost:8080/",
          "height": 36
        }
      },
      "source": [
        "# Estimate Coefficients\n"
      ],
      "execution_count": 91,
      "outputs": [
        {
          "output_type": "stream",
          "text": [
            "Coefficients: b0 : 0.39999999999999947 , b1 : 0.8)\n"
          ],
          "name": "stdout"
        }
      ]
    }
  ]
}